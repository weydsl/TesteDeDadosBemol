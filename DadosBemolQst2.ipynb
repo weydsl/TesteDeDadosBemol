{
 "cells": [
  {
   "cell_type": "code",
   "execution_count": 3,
   "id": "c1743f4f",
   "metadata": {},
   "outputs": [],
   "source": [
    "import pandas as pd\n",
    "import numpy as np\n",
    "import matplotlib.pyplot as plt\n",
    "%matplotlib inline"
   ]
  },
  {
   "cell_type": "code",
   "execution_count": 73,
   "id": "fa7d8bd3",
   "metadata": {},
   "outputs": [
    {
     "data": {
      "text/html": [
       "<div>\n",
       "<style scoped>\n",
       "    .dataframe tbody tr th:only-of-type {\n",
       "        vertical-align: middle;\n",
       "    }\n",
       "\n",
       "    .dataframe tbody tr th {\n",
       "        vertical-align: top;\n",
       "    }\n",
       "\n",
       "    .dataframe thead th {\n",
       "        text-align: right;\n",
       "    }\n",
       "</style>\n",
       "<table border=\"1\" class=\"dataframe\">\n",
       "  <thead>\n",
       "    <tr style=\"text-align: right;\">\n",
       "      <th></th>\n",
       "      <th>cod_Loja</th>\n",
       "      <th>data_compra</th>\n",
       "      <th>inicio</th>\n",
       "      <th>termino</th>\n",
       "      <th>Loja</th>\n",
       "      <th>cod_Produto</th>\n",
       "      <th>produto</th>\n",
       "      <th>EAN</th>\n",
       "      <th>Valor Unitário Sem Imposto</th>\n",
       "      <th>quantidade</th>\n",
       "      <th>valor_total</th>\n",
       "      <th>Impostos</th>\n",
       "      <th>Dinheiro de Volta (Aplicado direto no total)</th>\n",
       "    </tr>\n",
       "  </thead>\n",
       "  <tbody>\n",
       "    <tr>\n",
       "      <th>0</th>\n",
       "      <td>410</td>\n",
       "      <td>2019-07-05 10:30:41</td>\n",
       "      <td>2019-07-05</td>\n",
       "      <td>2019-07-20</td>\n",
       "      <td>Unidade Manaus 1</td>\n",
       "      <td>49618556000135</td>\n",
       "      <td>Smart Pro</td>\n",
       "      <td>190199383180</td>\n",
       "      <td>3000</td>\n",
       "      <td>1</td>\n",
       "      <td>R$ 3,331.29</td>\n",
       "      <td>R$ 376.29</td>\n",
       "      <td>45.0</td>\n",
       "    </tr>\n",
       "    <tr>\n",
       "      <th>1</th>\n",
       "      <td>410</td>\n",
       "      <td>2019-07-05 11:58:18</td>\n",
       "      <td>2019-07-05</td>\n",
       "      <td>2019-07-20</td>\n",
       "      <td>Unidade Manaus 1</td>\n",
       "      <td>49618556000135</td>\n",
       "      <td>Smart Pro</td>\n",
       "      <td>190199383180</td>\n",
       "      <td>3000</td>\n",
       "      <td>1</td>\n",
       "      <td>R$ 3,331.29</td>\n",
       "      <td>R$ 376.29</td>\n",
       "      <td>45.0</td>\n",
       "    </tr>\n",
       "    <tr>\n",
       "      <th>2</th>\n",
       "      <td>410</td>\n",
       "      <td>2019-07-05 14:06:58</td>\n",
       "      <td>2019-07-05</td>\n",
       "      <td>2019-07-20</td>\n",
       "      <td>Unidade Manaus 1</td>\n",
       "      <td>49618556000135</td>\n",
       "      <td>Smart Pro</td>\n",
       "      <td>190199383180</td>\n",
       "      <td>3000</td>\n",
       "      <td>1</td>\n",
       "      <td>R$ 3,331.29</td>\n",
       "      <td>R$ 376.29</td>\n",
       "      <td>45.0</td>\n",
       "    </tr>\n",
       "    <tr>\n",
       "      <th>3</th>\n",
       "      <td>410</td>\n",
       "      <td>2019-07-05 14:50:06</td>\n",
       "      <td>2019-07-05</td>\n",
       "      <td>2019-07-20</td>\n",
       "      <td>Unidade Manaus 1</td>\n",
       "      <td>49618556000135</td>\n",
       "      <td>Smart Pro</td>\n",
       "      <td>190199383180</td>\n",
       "      <td>3000</td>\n",
       "      <td>1</td>\n",
       "      <td>R$ 3,331.29</td>\n",
       "      <td>R$ 376.29</td>\n",
       "      <td>45.0</td>\n",
       "    </tr>\n",
       "    <tr>\n",
       "      <th>4</th>\n",
       "      <td>410</td>\n",
       "      <td>2019-07-05 16:04:56</td>\n",
       "      <td>2019-07-05</td>\n",
       "      <td>2019-07-20</td>\n",
       "      <td>Unidade Manaus 1</td>\n",
       "      <td>49618556000135</td>\n",
       "      <td>Smart Pro</td>\n",
       "      <td>190199383180</td>\n",
       "      <td>3000</td>\n",
       "      <td>3</td>\n",
       "      <td>R$ 9,993.87</td>\n",
       "      <td>R$ 1,128.87</td>\n",
       "      <td>135.0</td>\n",
       "    </tr>\n",
       "  </tbody>\n",
       "</table>\n",
       "</div>"
      ],
      "text/plain": [
       "   cod_Loja          data_compra      inicio     termino              Loja  \\\n",
       "0       410  2019-07-05 10:30:41  2019-07-05  2019-07-20  Unidade Manaus 1   \n",
       "1       410  2019-07-05 11:58:18  2019-07-05  2019-07-20  Unidade Manaus 1   \n",
       "2       410  2019-07-05 14:06:58  2019-07-05  2019-07-20  Unidade Manaus 1   \n",
       "3       410  2019-07-05 14:50:06  2019-07-05  2019-07-20  Unidade Manaus 1   \n",
       "4       410  2019-07-05 16:04:56  2019-07-05  2019-07-20  Unidade Manaus 1   \n",
       "\n",
       "      cod_Produto    produto           EAN  Valor Unitário Sem Imposto  \\\n",
       "0  49618556000135  Smart Pro  190199383180                        3000   \n",
       "1  49618556000135  Smart Pro  190199383180                        3000   \n",
       "2  49618556000135  Smart Pro  190199383180                        3000   \n",
       "3  49618556000135  Smart Pro  190199383180                        3000   \n",
       "4  49618556000135  Smart Pro  190199383180                        3000   \n",
       "\n",
       "   quantidade  valor_total     Impostos  \\\n",
       "0           1  R$ 3,331.29    R$ 376.29   \n",
       "1           1  R$ 3,331.29    R$ 376.29   \n",
       "2           1  R$ 3,331.29    R$ 376.29   \n",
       "3           1  R$ 3,331.29    R$ 376.29   \n",
       "4           3  R$ 9,993.87  R$ 1,128.87   \n",
       "\n",
       "   Dinheiro de Volta (Aplicado direto no total)  \n",
       "0                                          45.0  \n",
       "1                                          45.0  \n",
       "2                                          45.0  \n",
       "3                                          45.0  \n",
       "4                                         135.0  "
      ]
     },
     "execution_count": 73,
     "metadata": {},
     "output_type": "execute_result"
    }
   ],
   "source": [
    "df = pd.read_csv('Desafio - Time de Projetos e Dados - Dados - Questão 2.csv')\n",
    "df1 = pd.read_csv('Desafio - Time de Projetos e Dados - Dados - Questão 1 (1).csv')\n",
    "df.head()"
   ]
  },
  {
   "cell_type": "code",
   "execution_count": 21,
   "id": "a1bd7079",
   "metadata": {},
   "outputs": [
    {
     "data": {
      "text/plain": [
       "cod_Loja                                          int64\n",
       "data_compra                                      object\n",
       "inicio                                           object\n",
       "termino                                          object\n",
       "Loja                                             object\n",
       "cod_Produto                                       int64\n",
       "produto                                          object\n",
       "EAN                                               int64\n",
       "Valor Unitário Sem Imposto                        int64\n",
       "quantidade                                        int64\n",
       "valor_total                                      object\n",
       "Impostos                                         object\n",
       "Dinheiro de Volta (Aplicado direto no total)    float64\n",
       "dtype: object"
      ]
     },
     "execution_count": 21,
     "metadata": {},
     "output_type": "execute_result"
    }
   ],
   "source": [
    "df.dtypes"
   ]
  },
  {
   "cell_type": "code",
   "execution_count": 25,
   "id": "54aa2a5c",
   "metadata": {},
   "outputs": [
    {
     "data": {
      "text/plain": [
       "cod_Loja                int64\n",
       "data_compra            object\n",
       "inicio                 object\n",
       "termino                object\n",
       "Loja                   object\n",
       "cod_Produto             int64\n",
       "produto                object\n",
       "EAN                     int64\n",
       "Valor sem Impostos      int64\n",
       "quantidade              int64\n",
       "valor_total            object\n",
       "Impostos               object\n",
       "Dinheiro de Volta     float64\n",
       "dtype: object"
      ]
     },
     "execution_count": 25,
     "metadata": {},
     "output_type": "execute_result"
    }
   ],
   "source": [
    "# Alteram os nomes da coluna\n",
    "df.rename(columns = {'Dinheiro de Volta (Aplicado direto no total)' : 'Dinheiro de Volta','Valor Unitário Sem Imposto':'Valor sem Impostos'},inplace = True)\n",
    "df.dtypes"
   ]
  },
  {
   "cell_type": "code",
   "execution_count": 65,
   "id": "086a0291",
   "metadata": {},
   "outputs": [
    {
     "name": "stdout",
     "output_type": "stream",
     "text": [
      "A taxa de cashback em cima do produto é constante e equivalente a 1.35%\n"
     ]
    }
   ],
   "source": [
    "# Converter o Valor do produto de object para float\n",
    "def converteValor_Total(lista):\n",
    "    i = 0\n",
    "    lista = []\n",
    "    while (i < len(df['valor_total'])):\n",
    "           lista.append(df['valor_total'][i].replace('R$','').replace(',',''))\n",
    "           i += 1\n",
    "    return lista\n",
    "# Calcular a taxa de CASHBACK em cima do produto\n",
    "\n",
    "df_Valor_total = pd.to_numeric(converteValor_Total(df['valor_total']))\n",
    "df_volta = df['Dinheiro de Volta']\n",
    "def DinheiroVolta(volta,valor,posicao):\n",
    "    \n",
    "    taxa = (volta[posicao] / valor[posicao]) * 100    \n",
    "    return taxa\n",
    "\n",
    "# calcula a porcentagem de um valor de cachback a partir de uma posição, ex.5\n",
    "Taxa_volta = DinheiroVolta(df_volta,df_Valor_total,5)\n",
    "\n",
    "print(f'A taxa de cashback em cima do produto é constante e equivalente a {round(Taxa_volta,2)}%')"
   ]
  },
  {
   "cell_type": "code",
   "execution_count": 71,
   "id": "31b080a4",
   "metadata": {},
   "outputs": [
    {
     "data": {
      "text/html": [
       "<div>\n",
       "<style scoped>\n",
       "    .dataframe tbody tr th:only-of-type {\n",
       "        vertical-align: middle;\n",
       "    }\n",
       "\n",
       "    .dataframe tbody tr th {\n",
       "        vertical-align: top;\n",
       "    }\n",
       "\n",
       "    .dataframe thead th {\n",
       "        text-align: right;\n",
       "    }\n",
       "</style>\n",
       "<table border=\"1\" class=\"dataframe\">\n",
       "  <thead>\n",
       "    <tr style=\"text-align: right;\">\n",
       "      <th></th>\n",
       "      <th>Valor Total</th>\n",
       "      <th>CashBack</th>\n",
       "    </tr>\n",
       "  </thead>\n",
       "  <tbody>\n",
       "    <tr>\n",
       "      <th>0</th>\n",
       "      <td>R$ 3,331.29</td>\n",
       "      <td>45.0</td>\n",
       "    </tr>\n",
       "    <tr>\n",
       "      <th>1</th>\n",
       "      <td>R$ 3,331.29</td>\n",
       "      <td>45.0</td>\n",
       "    </tr>\n",
       "    <tr>\n",
       "      <th>2</th>\n",
       "      <td>R$ 3,331.29</td>\n",
       "      <td>45.0</td>\n",
       "    </tr>\n",
       "    <tr>\n",
       "      <th>3</th>\n",
       "      <td>R$ 3,331.29</td>\n",
       "      <td>45.0</td>\n",
       "    </tr>\n",
       "    <tr>\n",
       "      <th>4</th>\n",
       "      <td>R$ 9,993.87</td>\n",
       "      <td>135.0</td>\n",
       "    </tr>\n",
       "    <tr>\n",
       "      <th>...</th>\n",
       "      <td>...</td>\n",
       "      <td>...</td>\n",
       "    </tr>\n",
       "    <tr>\n",
       "      <th>894</th>\n",
       "      <td>R$ 3,331.29</td>\n",
       "      <td>45.0</td>\n",
       "    </tr>\n",
       "    <tr>\n",
       "      <th>895</th>\n",
       "      <td>R$ 3,331.29</td>\n",
       "      <td>45.0</td>\n",
       "    </tr>\n",
       "    <tr>\n",
       "      <th>896</th>\n",
       "      <td>R$ 9,993.87</td>\n",
       "      <td>135.0</td>\n",
       "    </tr>\n",
       "    <tr>\n",
       "      <th>897</th>\n",
       "      <td>R$ 3,331.29</td>\n",
       "      <td>45.0</td>\n",
       "    </tr>\n",
       "    <tr>\n",
       "      <th>898</th>\n",
       "      <td>R$ 3,331.29</td>\n",
       "      <td>45.0</td>\n",
       "    </tr>\n",
       "  </tbody>\n",
       "</table>\n",
       "<p>899 rows × 2 columns</p>\n",
       "</div>"
      ],
      "text/plain": [
       "     Valor Total CashBack\n",
       "0    R$ 3,331.29     45.0\n",
       "1    R$ 3,331.29     45.0\n",
       "2    R$ 3,331.29     45.0\n",
       "3    R$ 3,331.29     45.0\n",
       "4    R$ 9,993.87    135.0\n",
       "..           ...      ...\n",
       "894  R$ 3,331.29     45.0\n",
       "895  R$ 3,331.29     45.0\n",
       "896  R$ 9,993.87    135.0\n",
       "897  R$ 3,331.29     45.0\n",
       "898  R$ 3,331.29     45.0\n",
       "\n",
       "[899 rows x 2 columns]"
      ]
     },
     "execution_count": 71,
     "metadata": {},
     "output_type": "execute_result"
    }
   ],
   "source": [
    "df_CashBack = pd.DataFrame([df['valor_total'],df['Dinheiro de Volta']]).T\n",
    "\n",
    "df_CashBack.rename(columns = {'valor_total':'Valor Total', 'Dinheiro de Volta': 'CashBack'},inplace = True)\n",
    "df_CashBack"
   ]
  },
  {
   "cell_type": "code",
   "execution_count": 77,
   "id": "41718c3b",
   "metadata": {},
   "outputs": [
    {
     "data": {
      "text/plain": [
       "MARIA       440\n",
       "AUTO        381\n",
       "PATRICIA    190\n",
       "ANA         190\n",
       "JOSE        172\n",
       "           ... \n",
       "ALVES        17\n",
       "GOMEZ        17\n",
       "MEDEIROS     17\n",
       "BEZERRA      17\n",
       "TEIXEIRA     17\n",
       "Name: nome, Length: 510, dtype: int64"
      ]
     },
     "execution_count": 77,
     "metadata": {},
     "output_type": "execute_result"
    }
   ],
   "source": [
    "# Vendedores que mais venderam \n",
    "df_vendasVendedor = df1['nome']\n",
    "df_vendasVendedor.value_counts()"
   ]
  },
  {
   "cell_type": "code",
   "execution_count": 84,
   "id": "c28a19b2",
   "metadata": {},
   "outputs": [
    {
     "data": {
      "text/html": [
       "<div>\n",
       "<style scoped>\n",
       "    .dataframe tbody tr th:only-of-type {\n",
       "        vertical-align: middle;\n",
       "    }\n",
       "\n",
       "    .dataframe tbody tr th {\n",
       "        vertical-align: top;\n",
       "    }\n",
       "\n",
       "    .dataframe thead th {\n",
       "        text-align: right;\n",
       "    }\n",
       "</style>\n",
       "<table border=\"1\" class=\"dataframe\">\n",
       "  <thead>\n",
       "    <tr style=\"text-align: right;\">\n",
       "      <th></th>\n",
       "      <th>Tipo de Mercadoria</th>\n",
       "      <th>nome</th>\n",
       "    </tr>\n",
       "  </thead>\n",
       "  <tbody>\n",
       "    <tr>\n",
       "      <th>0</th>\n",
       "      <td>SPLIT 8501 À 10000</td>\n",
       "      <td>ANDERSON</td>\n",
       "    </tr>\n",
       "    <tr>\n",
       "      <th>1</th>\n",
       "      <td>SPLIT INV 8501À10000</td>\n",
       "      <td>RAIMUNDO</td>\n",
       "    </tr>\n",
       "    <tr>\n",
       "      <th>2</th>\n",
       "      <td>SPLIT ACIMA DE 30000</td>\n",
       "      <td>ROSILANE</td>\n",
       "    </tr>\n",
       "    <tr>\n",
       "      <th>3</th>\n",
       "      <td>SPLIT 10001 À 18000</td>\n",
       "      <td>SANDRA</td>\n",
       "    </tr>\n",
       "    <tr>\n",
       "      <th>4</th>\n",
       "      <td>SPLIT 18001 À 30000</td>\n",
       "      <td>JAMERSON</td>\n",
       "    </tr>\n",
       "    <tr>\n",
       "      <th>...</th>\n",
       "      <td>...</td>\n",
       "      <td>...</td>\n",
       "    </tr>\n",
       "    <tr>\n",
       "      <th>13872</th>\n",
       "      <td>HIPOGLICEMI ORAL REF</td>\n",
       "      <td>SOARES</td>\n",
       "    </tr>\n",
       "    <tr>\n",
       "      <th>13873</th>\n",
       "      <td>ANTIHELMÍNTICO REF</td>\n",
       "      <td>SANTANA</td>\n",
       "    </tr>\n",
       "    <tr>\n",
       "      <th>13874</th>\n",
       "      <td>ANTIVERTIGINOSO REF</td>\n",
       "      <td>SALES</td>\n",
       "    </tr>\n",
       "    <tr>\n",
       "      <th>13875</th>\n",
       "      <td>ESTIMULANTE REF</td>\n",
       "      <td>AURELIANO</td>\n",
       "    </tr>\n",
       "    <tr>\n",
       "      <th>13876</th>\n",
       "      <td>ANTIESPASMÓDICO REF</td>\n",
       "      <td>REGINA</td>\n",
       "    </tr>\n",
       "  </tbody>\n",
       "</table>\n",
       "<p>13877 rows × 2 columns</p>\n",
       "</div>"
      ],
      "text/plain": [
       "         Tipo de Mercadoria       nome\n",
       "0        SPLIT 8501 À 10000   ANDERSON\n",
       "1      SPLIT INV 8501À10000   RAIMUNDO\n",
       "2      SPLIT ACIMA DE 30000   ROSILANE\n",
       "3       SPLIT 10001 À 18000     SANDRA\n",
       "4       SPLIT 18001 À 30000   JAMERSON\n",
       "...                     ...        ...\n",
       "13872  HIPOGLICEMI ORAL REF     SOARES\n",
       "13873    ANTIHELMÍNTICO REF    SANTANA\n",
       "13874   ANTIVERTIGINOSO REF      SALES\n",
       "13875       ESTIMULANTE REF  AURELIANO\n",
       "13876   ANTIESPASMÓDICO REF     REGINA\n",
       "\n",
       "[13877 rows x 2 columns]"
      ]
     },
     "execution_count": 84,
     "metadata": {},
     "output_type": "execute_result"
    }
   ],
   "source": [
    "# Tabela com a relação dos vendedores do seu produto Qst1\n",
    "df_vendasPorVendedor = pd.DataFrame([df1['Tipo de Mercadoria'],df_vendasVendedor]).T\n",
    "df_vendasPorVendedor"
   ]
  },
  {
   "cell_type": "code",
   "execution_count": 109,
   "id": "900f93a3",
   "metadata": {},
   "outputs": [
    {
     "data": {
      "text/plain": [
       "<matplotlib.legend.Legend at 0x1fd81b6da30>"
      ]
     },
     "execution_count": 109,
     "metadata": {},
     "output_type": "execute_result"
    },
    {
     "data": {
      "image/png": "[encoded data removed]",
      "text/plain": [
       "<Figure size 3240x720 with 1 Axes>"
      ]
     },
     "metadata": {},
     "output_type": "display_data"
    }
   ],
   "source": [
    "# Os 5 vendedores que mais venderam\n",
    "count = df1[\"nome\"].value_counts().head(5).values\n",
    "dev = df1[\"nome\"].value_counts().head(5).index\n",
    "plt.figure(figsize = (45, 10))\n",
    "\n",
    "plt.xlabel(\"Vendedor\")\n",
    "plt.title(\"Vendedores que mais venderam\")\n",
    "plt.subplot(1, 2, 2)\n",
    "plt.pie(count, \n",
    "        labels = list(dev),  \n",
    "        \n",
    "        labeldistance = 1.1,\n",
    "        explode = [.1, 0, 0, 0,0],\n",
    "        wedgeprops = {\"ec\": \"k\"}, \n",
    "        textprops = {\"fontsize\": 15}, \n",
    "        )\n",
    "plt.axis(\"equal\")\n",
    "plt.title(\"Vendedores que mais venderam\")\n",
    "plt.legend()"
   ]
  },
  {
   "cell_type": "code",
   "execution_count": 102,
   "id": "5c1c3e29",
   "metadata": {},
   "outputs": [
    {
     "data": {
      "text/plain": [
       "Tipo de Mercadoria   nome    \n",
       "SPLIT 10001 À 18000  AUTO        5\n",
       "CAFETEIRA            ANA         4\n",
       "TV LED DE 40\" À 43\"  AUTO        4\n",
       "PROTET SOLAR FACIAL  MARIA       4\n",
       "MULTIFUNÇÃO          MARIA       4\n",
       "                                ..\n",
       "COIFA DE ILHA        TATIANE     1\n",
       "                     TRAYS       1\n",
       "                     WEMERSON    1\n",
       "COIFA DE PAREDE      ALEX        1\n",
       "ÔMEGA 3 E 6          VALBNER     1\n",
       "Length: 13561, dtype: int64"
      ]
     },
     "execution_count": 102,
     "metadata": {},
     "output_type": "execute_result"
    }
   ],
   "source": [
    "df_vendasPorVendedor.value_counts()"
   ]
  },
  {
   "cell_type": "code",
   "execution_count": 112,
   "id": "2d217164",
   "metadata": {},
   "outputs": [
    {
     "data": {
      "text/plain": [
       "Smart Pro    612\n",
       "Smart Med    287\n",
       "Name: produto, dtype: int64"
      ]
     },
     "execution_count": 112,
     "metadata": {},
     "output_type": "execute_result"
    }
   ],
   "source": [
    "\n",
    "# Produtos vendidos da lista2 Qst2\n",
    "df_maisVendido = df['produto'].value_counts()\n",
    "df_maisVendido.head() "
   ]
  },
  {
   "cell_type": "code",
   "execution_count": 120,
   "id": "85d46d99",
   "metadata": {},
   "outputs": [
    {
     "name": "stdout",
     "output_type": "stream",
     "text": [
      "612\n"
     ]
    }
   ],
   "source": [
    "# o produto mais vendido\n",
    "def Produto(target,lista):\n",
    "    produto_vendido = 0\n",
    "    for palavra in lista:\n",
    "        if (palavra == target):\n",
    "            produto_vendido += 1\n",
    "    return produto_vendido\n",
    "\n",
    "MaisVendido = Produto('Smart Pro', df['produto'])\n",
    "print(MaisVendido)\n"
   ]
  },
  {
   "cell_type": "code",
   "execution_count": 129,
   "id": "a9d0c356",
   "metadata": {},
   "outputs": [
    {
     "data": {
      "text/plain": [
       "<Figure size 720x576 with 0 Axes>"
      ]
     },
     "metadata": {},
     "output_type": "display_data"
    },
    {
     "data": {
      "image/png": "[encoded data removed]",
      "text/plain": [
       "<Figure size 504x504 with 1 Axes>"
      ]
     },
     "metadata": {},
     "output_type": "display_data"
    }
   ],
   "source": [
    "total = df['produto'].count()\n",
    "# Gráfico dos produtos mais vendidos\n",
    "\n",
    "MenosVendido = total  - MaisVendido\n",
    "# gráfico da porcentagem de devoluções que foram registrados\n",
    "plt.figure(figsize = (10, 8))\n",
    "rotulo = ('Smart Pro', 'Smart Med')\n",
    "vendas = (MaisVendido,MenosVendido)\n",
    "explode = (0.2,0)\n",
    "plt.figure(figsize =(7,7))\n",
    "plt.pie(x = vendas, labels = rotulo, explode = explode, autopct = '%1.1f%%', startangle = 90)\n",
    "plt.title(\"Produto mais Vendido\")\n",
    "plt.show()"
   ]
  },
  {
   "cell_type": "code",
   "execution_count": null,
   "id": "0fd157f3",
   "metadata": {},
   "outputs": [],
   "source": []
  }
 ],
 "metadata": {
  "kernelspec": {
   "display_name": "Python 3",
   "language": "python",
   "name": "python3"
  },
  "language_info": {
   "codemirror_mode": {
    "name": "ipython",
    "version": 3
   },
   "file_extension": ".py",
   "mimetype": "text/x-python",
   "name": "python",
   "nbconvert_exporter": "python",
   "pygments_lexer": "ipython3",
   "version": "3.8.8"
  }
 },
 "nbformat": 4,
 "nbformat_minor": 5
}
